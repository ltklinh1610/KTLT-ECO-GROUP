{
  "cells": [
    {
      "cell_type": "markdown",
      "metadata": {
        "colab_type": "text",
        "id": "view-in-github"
      },
      "source": [
        "<a href=\"https://colab.research.google.com/github/ltklinh1610/KTLT-ECO-GROUP/blob/main/Cu%E1%BB%91i%20K%C3%AC/CuoiKi.ipynb\" target=\"_parent\"><img src=\"https://colab.research.google.com/assets/colab-badge.svg\" alt=\"Open In Colab\"/></a>"
      ]
    },
    {
      "cell_type": "markdown",
      "metadata": {
        "id": "8CjpUfYjkD9-"
      },
      "source": [
        "# Cuối Kì"
      ]
    },
    {
      "cell_type": "code",
      "execution_count": null,
      "metadata": {
        "id": "CaA0l40pjqDT"
      },
      "outputs": [],
      "source": [
        "import pandas as pd\n",
        "import numpy as np\n",
        "import matplotlib.pyplot as plt\n",
        "import seaborn as sns\n",
        "from sklearn.model_selection import train_test_split\n",
        "from sklearn.preprocessing import MinMaxScaler, LabelEncoder, StandardScaler\n",
        "from sklearn.metrics import confusion_matrix, accuracy_score, recall_score, f1_score\n",
        "from sklearn.tree import DecisionTreeClassifier\n",
        "from sklearn.linear_model import LogisticRegression\n",
        "from sklearn.cluster import KMeans\n",
        "from sklearn.impute import SimpleImputer # Giữ lại để mô phỏng bước Impute trong báo cáo"
      ]
    },
    {
      "cell_type": "markdown",
      "metadata": {
        "id": "9HGN1jA2kLna"
      },
      "source": [
        "# KIỂM TRA DỮ LIỆU"
      ]
    },
    {
      "cell_type": "code",
      "execution_count": 15,
      "metadata": {
        "colab": {
          "base_uri": "https://localhost:8080/"
        },
        "id": "HBGGmMm3kNQz",
        "outputId": "07cc2947-dc5f-4804-ba0c-5bfcd550bec5"
      },
      "outputs": [
        {
          "name": "stdout",
          "output_type": "stream",
          "text": [
            "=== THÔNG TIN TỔNG QUAN VÀ THỐNG KÊ MÔ TẢ (Describe All) ===\n",
            "                 Age         Income     LoanAmount    CreditScore  \\\n",
            "count  255347.000000  255347.000000  255347.000000  255347.000000   \n",
            "mean       43.498306   82499.304597  127578.865512     574.264346   \n",
            "std        14.990258   38963.013729   70840.706142     158.903867   \n",
            "min        18.000000   15000.000000    5000.000000     300.000000   \n",
            "25%        31.000000   48825.500000   66156.000000     437.000000   \n",
            "50%        43.000000   82466.000000  127556.000000     574.000000   \n",
            "75%        56.000000  116219.000000  188985.000000     712.000000   \n",
            "max        69.000000  149999.000000  249999.000000     849.000000   \n",
            "\n",
            "       MonthsEmployed  NumCreditLines   InterestRate       LoanTerm  \\\n",
            "count   255347.000000   255347.000000  255347.000000  255347.000000   \n",
            "mean        59.541976        2.501036      13.492773      36.025894   \n",
            "std         34.643376        1.117018       6.636443      16.969330   \n",
            "min          0.000000        1.000000       2.000000      12.000000   \n",
            "25%         30.000000        2.000000       7.770000      24.000000   \n",
            "50%         60.000000        2.000000      13.460000      36.000000   \n",
            "75%         90.000000        3.000000      19.250000      48.000000   \n",
            "max        119.000000        4.000000      25.000000      60.000000   \n",
            "\n",
            "            DTIRatio        Default  \n",
            "count  255347.000000  255347.000000  \n",
            "mean        0.500212       0.116128  \n",
            "std         0.230917       0.320379  \n",
            "min         0.100000       0.000000  \n",
            "25%         0.300000       0.000000  \n",
            "50%         0.500000       0.000000  \n",
            "75%         0.700000       0.000000  \n",
            "max         0.900000       1.000000  \n",
            "Kích thước dữ liệu gốc: (255347, 18)\n",
            "5 dòng đầu tiên:\n",
            "\n",
            "       LoanID  Age  Income  LoanAmount  CreditScore  MonthsEmployed  \\\n",
            "0  I38PQUQS96   56   85994       50587          520              80   \n",
            "1  HPSK72WA7R   69   50432      124440          458              15   \n",
            "2  C1OZ6DPJ8Y   46   84208      129188          451              26   \n",
            "3  V2KKSFM3UN   32   31713       44799          743               0   \n",
            "4  EY08JDHTZP   60   20437        9139          633               8   \n",
            "\n",
            "   NumCreditLines  InterestRate  LoanTerm  DTIRatio    Education  \\\n",
            "0               4         15.23        36      0.44   Bachelor's   \n",
            "1               1          4.81        60      0.68     Master's   \n",
            "2               3         21.17        24      0.31     Master's   \n",
            "3               3          7.07        24      0.23  High School   \n",
            "4               4          6.51        48      0.73   Bachelor's   \n",
            "\n",
            "  EmploymentType MaritalStatus HasMortgage HasDependents LoanPurpose  \\\n",
            "0      Full-time      Divorced         Yes           Yes       Other   \n",
            "1      Full-time       Married          No            No       Other   \n",
            "2     Unemployed      Divorced         Yes           Yes        Auto   \n",
            "3      Full-time       Married          No            No    Business   \n",
            "4     Unemployed      Divorced          No           Yes        Auto   \n",
            "\n",
            "  HasCoSigner  Default  \n",
            "0         Yes        0  \n",
            "1         Yes        0  \n",
            "2          No        1  \n",
            "3          No        0  \n",
            "4          No        0  \n",
            "\n",
            "Kiểm tra Non-Null Count và Kiểu dữ liệu (Dữ liệu gốc):\n",
            "\n",
            "<class 'pandas.core.frame.DataFrame'>\n",
            "RangeIndex: 255347 entries, 0 to 255346\n",
            "Data columns (total 18 columns):\n",
            " #   Column          Non-Null Count   Dtype  \n",
            "---  ------          --------------   -----  \n",
            " 0   LoanID          255347 non-null  object \n",
            " 1   Age             255347 non-null  int64  \n",
            " 2   Income          255347 non-null  int64  \n",
            " 3   LoanAmount      255347 non-null  int64  \n",
            " 4   CreditScore     255347 non-null  int64  \n",
            " 5   MonthsEmployed  255347 non-null  int64  \n",
            " 6   NumCreditLines  255347 non-null  int64  \n",
            " 7   InterestRate    255347 non-null  float64\n",
            " 8   LoanTerm        255347 non-null  int64  \n",
            " 9   DTIRatio        255347 non-null  float64\n",
            " 10  Education       255347 non-null  object \n",
            " 11  EmploymentType  255347 non-null  object \n",
            " 12  MaritalStatus   255347 non-null  object \n",
            " 13  HasMortgage     255347 non-null  object \n",
            " 14  HasDependents   255347 non-null  object \n",
            " 15  LoanPurpose     255347 non-null  object \n",
            " 16  HasCoSigner     255347 non-null  object \n",
            " 17  Default         255347 non-null  int64  \n",
            "dtypes: float64(2), int64(8), object(8)\n",
            "memory usage: 35.1+ MB\n"
          ]
        }
      ],
      "source": [
        "import pandas as pd\n",
        "\n",
        "df = pd.read_csv('Loan_default.csv')\n",
        "\n",
        "print(\"=== THÔNG TIN TỔNG QUAN VÀ THỐNG KÊ MÔ TẢ (Describe All) ===\")\n",
        "print(df.describe())\n",
        "\n",
        "print(f\"Kích thước dữ liệu gốc: {df.shape}\")\n",
        "print(\"5 dòng đầu tiên:\\n\")\n",
        "print(df.head(5))\n",
        "\n",
        "print(\"\\nKiểm tra Non-Null Count và Kiểu dữ liệu (Dữ liệu gốc):\\n\")\n",
        "df.info()"
      ]
    },
    {
      "cell_type": "markdown",
      "metadata": {},
      "source": [
        "# Làm Sạch dữ liệu"
      ]
    },
    {
      "cell_type": "code",
      "execution_count": null,
      "metadata": {},
      "outputs": [],
      "source": [
        "CORE_COLUMNS = ['Default', 'Age', 'Income', 'LoanAmount', 'InterestRate', 'LoanTerm', 'EmploymentType', 'Education']\n",
        "df_filtered = df[CORE_COLUMNS].copy()\n",
        "\n",
        "# LẤY MẪU NGẪU NHIÊN (3% - 7661 quan sát)\n",
        "sample_frac = 0.03\n",
        "df_sample = df_filtered.sample(frac=sample_frac, random_state=42).copy()\n",
        "\n",
        "# ĐỔI TÊN CỘT SANG TIẾNG VIỆT\n",
        "df_sample.columns = ['Khả năng vỡ nợ', 'Tuổi', 'Thu nhập', 'Khoản vay', 'Lãi suất vay', 'Thời hạn vay', 'Nghề nghiệp', 'Trình độ học vấn']\n",
        "\n",
        "# KIỂM TRA VÀ MÔ PHỎNG IMAPUTE (Data Cleaning)\n",
        "# Dùng SimpleImputer để mô phỏng \"Average/Most frequent\"\n",
        "numerical_cols = ['Tuổi', 'Thu nhập', 'Khoản vay', 'Lãi suất vay', 'Thời hạn vay']\n",
        "categorical_cols = ['Nghề nghiệp', 'Trình độ học vấn']\n",
        "imputer_numeric = SimpleImputer(strategy='mean')\n",
        "imputer_categorical = SimpleImputer(strategy='most_frequent')\n",
        "\n",
        "df_sample[numerical_cols] = imputer_numeric.fit_transform(df_sample[numerical_cols])\n",
        "df_sample[categorical_cols] = imputer_categorical.fit_transform(df_sample[categorical_cols])\n",
        "\n",
        "# CHUẨN HÓA BIẾN VÀ MÃ HÓA (Data Transformation)\n",
        "# Chuẩn hóa nhị phân\n",
        "df_sample['Trình độ học vấn_Binary'] = df_sample['Trình độ học vấn'].apply(\n",
        "    lambda x: 1 if x in ['Master\\'s', 'PhD'] else 0\n",
        ")\n",
        "df_sample['Nghề nghiệp_Binary'] = df_sample['Nghề nghiệp'].apply(\n",
        "    lambda x: 0 if x == 'Unemployed' else 1\n",
        ")\n",
        "\n",
        "# Mã hóa One-Hot cho Phân loại\n",
        "df_encoded = pd.get_dummies(df_sample,\n",
        "                           columns=['Nghề nghiệp', 'Trình độ học vấn'],\n",
        "                           prefix=['NgheNghiep', 'TrinhDo'])\n",
        "\n",
        "print(f\"Tiền xử lý hoàn tất. Kích thước DataFrame cuối cùng: {df_encoded.shape}\")\n",
        "print(df_encoded.describe())\n",
        "print(df_encoded.head(5))"
      ]
    },
    {
      "cell_type": "markdown",
      "metadata": {},
      "source": [
        "# BƯỚC 3 PHÂN TÍCH MÔ TẢ"
      ]
    },
    {
      "cell_type": "code",
      "execution_count": null,
      "metadata": {},
      "outputs": [],
      "source": [
        "print(\"\\n=== BƯỚC 3: PHÂN TÍCH MÔ TẢ (EDA) ===\")\n",
        "numerical_cols = ['Tuổi', 'Thu nhập', 'Khoản vay', 'Lãi suất vay', 'Thời hạn vay']\n",
        "\n",
        "age_bins = [15, 30, 45, 60, 75]\n",
        "age_labels = ['15-30', '31-45', '46-60', '61-75']\n",
        "df_sample['Tuổi_Group'] = pd.cut(df_sample['Tuổi'], bins=age_bins, labels=age_labels, right=True, include_lowest=True)\n",
        "\n",
        "loan_max = df_sample['Khoản vay'].max()\n",
        "loan_bins = np.arange(5000, 275001, 30000)\n",
        "df_sample['Khoản vay_Group'] = pd.cut(df_sample['Khoản vay'], bins=loan_bins, include_lowest=True)\n",
        "\n",
        "income_max = df_sample['Thu nhập'].max()\n",
        "income_bins = np.arange(15000, 155001, 15000)\n",
        "df_sample['Thu nhập_Group'] = pd.cut(df_sample['Thu nhập'], bins=income_bins, include_lowest=True)\n",
        "\n",
        "rate_bins = [0, 5, 10, 15, 20, 25]\n",
        "rate_labels = ['0.00-5.00', '5.00-10.00', '10.00-15.00', '15.00-20.00', '20.00-25.00']\n",
        "df_sample['Lãi suất vay_Group'] = pd.cut(df_sample['Lãi suất vay'], bins=rate_bins, labels=rate_labels, right=True, include_lowest=True)\n",
        "\n",
        "df_sample['Thời hạn vay_Group'] = df_sample['Thời hạn vay'].astype(str)\n",
        "\n",
        "plt.figure(figsize=(20, 10))\n",
        "plt.suptitle('Dashboard: Biểu đồ Cột Cố định', fontsize=16)\n",
        "\n",
        "grouped_cols = ['Tuổi_Group', 'Khoản vay_Group', 'Thu nhập_Group', 'Lãi suất vay_Group', 'Thời hạn vay_Group']\n",
        "group_plot_positions = [3, 4, 5, 6, 7]\n",
        "\n",
        "plt.subplot(2, 4, 1)\n",
        "df_sample['Trình độ học vấn'].value_counts().plot.pie(autopct='%1.1f%%', startangle=90, cmap='viridis')\n",
        "plt.title('1. Tỉ trọng Trình độ học vấn')\n",
        "plt.ylabel('')\n",
        "\n",
        "plt.subplot(2, 4, 2)\n",
        "df_sample['Nghề nghiệp'].value_counts().plot.pie(autopct='%1.1f%%', startangle=90, cmap='Pastel2')\n",
        "plt.title('2. Tỉ trọng Tình trạng việc làm')\n",
        "plt.ylabel('')\n",
        "\n",
        "for i, col_group in enumerate(grouped_cols):\n",
        "    plt.subplot(2, 4, group_plot_positions[i])\n",
        "\n",
        "    # Sử dụng Countplot để tạo Biểu đồ cột\n",
        "    ax = sns.countplot(data=df_sample, x=col_group, palette='tab10',\n",
        "                       order=df_sample[col_group].value_counts().index)\n",
        "    plt.title(f'{group_plot_positions[i]}. Phân phối {col_group.split(\"_\")[0]}')\n",
        "    plt.xlabel('')\n",
        "    plt.xticks(rotation=45, ha='right', fontsize=8)\n",
        "\n",
        "    # Gắn nhãn số lượng lên trên các thanh bar\n",
        "    for p in ax.patches:\n",
        "        height = p.get_height()\n",
        "        if height > 0:\n",
        "            ax.text(p.get_x() + p.get_width() / 2.,\n",
        "                    height + 50,\n",
        "                    '{:1.0f}'.format(height),\n",
        "                    ha=\"center\", fontsize=8, weight='bold')\n",
        "\n",
        "plt.tight_layout(rect=[0, 0.03, 1, 0.95])\n",
        "plt.show()\n",
        "\n",
        "\n",
        "#PHÂN TÍCH ĐIỂM ĐẶC THÙ \n",
        "print(\"\\n[Phân tích] Distribution theo Khả năng vỡ nợ (Sử dụng Biểu đồ Cột Stacked):\")\n",
        "\n",
        "for col_group in grouped_cols:\n",
        "    plt.figure(figsize=(10, 6))\n",
        "\n",
        "    data_counts = df_sample.groupby([col_group, 'Khả năng vỡ nợ']).size().unstack(fill_value=0)\n",
        "    data_counts.plot(kind='bar', stacked=True, color=['#1f77b4', '#ff7f0e'], ax=plt.gca())\n",
        "\n",
        "    plt.title(f'Distribution của {col_group.split(\"_\")[0]} (0: Không vỡ nợ, 1: Vỡ nợ)')\n",
        "    plt.xlabel(col_group.replace('_', ' '))\n",
        "    plt.ylabel('Số lượng')\n",
        "    plt.xticks(rotation=45, ha='right', fontsize=9)\n",
        "    plt.legend(title='Khả năng vỡ nợ', labels=['0 (Không Vỡ nợ)', '1 (Vỡ nợ)'])\n",
        "    plt.show()"
      ]
    }
  ],
  "metadata": {
    "colab": {
      "authorship_tag": "ABX9TyNcQ0EXb6qv031cdPu64E/H",
      "include_colab_link": true,
      "provenance": []
    },
    "kernelspec": {
      "display_name": "Python 3",
      "name": "python3"
    },
    "language_info": {
      "name": "python"
    }
  },
  "nbformat": 4,
  "nbformat_minor": 0
}
